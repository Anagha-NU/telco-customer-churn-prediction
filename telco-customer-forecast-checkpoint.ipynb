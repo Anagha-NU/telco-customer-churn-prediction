{
 "cells": [
  {
   "cell_type": "markdown",
   "id": "140d0ded",
   "metadata": {
    "papermill": {
     "duration": 0.007414,
     "end_time": "2023-06-24T03:35:00.580330",
     "exception": false,
     "start_time": "2023-06-24T03:35:00.572916",
     "status": "completed"
    },
    "tags": []
   },
   "source": [
    "<h1><b>telco customer churn prediction"
   ]
  },
  {
   "cell_type": "markdown",
   "id": "6a883536",
   "metadata": {
    "papermill": {
     "duration": 0.006472,
     "end_time": "2023-06-24T03:35:00.593670",
     "exception": false,
     "start_time": "2023-06-24T03:35:00.587198",
     "status": "completed"
    },
    "tags": []
   },
   "source": [
    "telco customer leaving or stay in service forecasting "
   ]
  },
  {
   "cell_type": "markdown",
   "id": "ad6e6374",
   "metadata": {
    "papermill": {
     "duration": 0.006483,
     "end_time": "2023-06-24T03:35:00.607165",
     "exception": false,
     "start_time": "2023-06-24T03:35:00.600682",
     "status": "completed"
    },
    "tags": []
   },
   "source": [
    "<h4><b> Import library"
   ]
  },
  {
   "cell_type": "code",
   "execution_count": 2,
   "id": "25cfcf4d",
   "metadata": {
    "execution": {
     "iopub.execute_input": "2023-06-24T03:35:00.623450Z",
     "iopub.status.busy": "2023-06-24T03:35:00.622582Z",
     "iopub.status.idle": "2023-06-24T03:35:12.347344Z",
     "shell.execute_reply": "2023-06-24T03:35:12.346163Z"
    },
    "papermill": {
     "duration": 11.736055,
     "end_time": "2023-06-24T03:35:12.350247",
     "exception": false,
     "start_time": "2023-06-24T03:35:00.614192",
     "status": "completed"
    },
    "tags": []
   },
   "outputs": [],
   "source": [
    "import pandas as pd \n",
    "import numpy as np \n",
    "import seaborn as sns\n",
    "import matplotlib.pyplot as plt\n",
    "\n",
    "from sklearn.model_selection import train_test_split\n",
    "from sklearn.metrics import confusion_matrix , classification_report\n",
    "from imblearn.over_sampling import SMOTE\n",
    "\n",
    "import tensorflow as tf\n",
    "from tensorflow import keras"
   ]
  },
  {
   "cell_type": "markdown",
   "id": "6a92aeb3",
   "metadata": {
    "papermill": {
     "duration": 0.008348,
     "end_time": "2023-06-24T03:35:12.365827",
     "exception": false,
     "start_time": "2023-06-24T03:35:12.357479",
     "status": "completed"
    },
    "tags": []
   },
   "source": [
    "<h4><b> Data preparation"
   ]
  },
  {
   "cell_type": "markdown",
   "id": "1dbafca3",
   "metadata": {
    "papermill": {
     "duration": 0.0067,
     "end_time": "2023-06-24T03:35:12.379572",
     "exception": false,
     "start_time": "2023-06-24T03:35:12.372872",
     "status": "completed"
    },
    "tags": []
   },
   "source": [
    "set up dataframe (import from csv)"
   ]
  },
  {
   "cell_type": "code",
   "execution_count": 9,
   "id": "fa892d90",
   "metadata": {
    "execution": {
     "iopub.execute_input": "2023-06-24T03:35:12.396194Z",
     "iopub.status.busy": "2023-06-24T03:35:12.395390Z",
     "iopub.status.idle": "2023-06-24T03:35:12.497003Z",
     "shell.execute_reply": "2023-06-24T03:35:12.495856Z"
    },
    "papermill": {
     "duration": 0.112758,
     "end_time": "2023-06-24T03:35:12.499686",
     "exception": false,
     "start_time": "2023-06-24T03:35:12.386928",
     "status": "completed"
    },
    "tags": []
   },
   "outputs": [],
   "source": [
    "df = pd.read_csv(\"customer_churn.csv\")\n",
    "df.head()\n",
    "\n",
    "df = df.drop([\"customerID\"], axis=\"columns\")\n"
   ]
  },
  {
   "cell_type": "markdown",
   "id": "bc1ba6d0",
   "metadata": {
    "papermill": {
     "duration": 0.006921,
     "end_time": "2023-06-24T03:35:12.513790",
     "exception": false,
     "start_time": "2023-06-24T03:35:12.506869",
     "status": "completed"
    },
    "tags": []
   },
   "source": [
    "unique value each column in dataframe"
   ]
  },
  {
   "cell_type": "code",
   "execution_count": 10,
   "id": "b97dd240",
   "metadata": {
    "execution": {
     "iopub.execute_input": "2023-06-24T03:35:12.530156Z",
     "iopub.status.busy": "2023-06-24T03:35:12.529411Z",
     "iopub.status.idle": "2023-06-24T03:35:12.558834Z",
     "shell.execute_reply": "2023-06-24T03:35:12.557282Z"
    },
    "papermill": {
     "duration": 0.040382,
     "end_time": "2023-06-24T03:35:12.561277",
     "exception": false,
     "start_time": "2023-06-24T03:35:12.520895",
     "status": "completed"
    },
    "tags": []
   },
   "outputs": [
    {
     "name": "stdout",
     "output_type": "stream",
     "text": [
      "Column 'gender' unique values:\n",
      "['Female' 'Male']\n",
      "Column 'SeniorCitizen' unique values:\n",
      "[0 1]\n",
      "Column 'Partner' unique values:\n",
      "['Yes' 'No']\n",
      "Column 'Dependents' unique values:\n",
      "['No' 'Yes']\n",
      "Column 'tenure' unique values:\n",
      "[ 1 34  2 45  8 22 10 28 62 13 16 58 49 25 69 52 71 21 12 30 47 72 17 27\n",
      "  5 46 11 70 63 43 15 60 18 66  9  3 31 50 64 56  7 42 35 48 29 65 38 68\n",
      " 32 55 37 36 41  6  4 33 67 23 57 61 14 20 53 40 59 24 44 19 54 51 26  0\n",
      " 39]\n",
      "Column 'PhoneService' unique values:\n",
      "['No' 'Yes']\n",
      "Column 'MultipleLines' unique values:\n",
      "['No phone service' 'No' 'Yes']\n",
      "Column 'InternetService' unique values:\n",
      "['DSL' 'Fiber optic' 'No']\n",
      "Column 'OnlineSecurity' unique values:\n",
      "['No' 'Yes' 'No internet service']\n",
      "Column 'OnlineBackup' unique values:\n",
      "['Yes' 'No' 'No internet service']\n",
      "Column 'DeviceProtection' unique values:\n",
      "['No' 'Yes' 'No internet service']\n",
      "Column 'TechSupport' unique values:\n",
      "['No' 'Yes' 'No internet service']\n",
      "Column 'StreamingTV' unique values:\n",
      "['No' 'Yes' 'No internet service']\n",
      "Column 'StreamingMovies' unique values:\n",
      "['No' 'Yes' 'No internet service']\n",
      "Column 'Contract' unique values:\n",
      "['Month-to-month' 'One year' 'Two year']\n",
      "Column 'PaperlessBilling' unique values:\n",
      "['Yes' 'No']\n",
      "Column 'PaymentMethod' unique values:\n",
      "['Electronic check' 'Mailed check' 'Bank transfer (automatic)'\n",
      " 'Credit card (automatic)']\n",
      "Column 'MonthlyCharges' unique values:\n",
      "[29.85 56.95 53.85 ... 63.1  44.2  78.7 ]\n",
      "Column 'TotalCharges' unique values:\n",
      "['29.85' '1889.5' '108.15' ... '346.45' '306.6' '6844.5']\n",
      "Column 'Churn' unique values:\n",
      "['No' 'Yes']\n"
     ]
    }
   ],
   "source": [
    "for column in df.columns:\n",
    "    unique_values = df[column].unique()\n",
    "    print(f\"Column '{column}' unique values:\")\n",
    "    print(unique_values)"
   ]
  },
  {
   "cell_type": "markdown",
   "id": "fc1ae6c7",
   "metadata": {
    "papermill": {
     "duration": 0.006889,
     "end_time": "2023-06-24T03:35:12.575553",
     "exception": false,
     "start_time": "2023-06-24T03:35:12.568664",
     "status": "completed"
    },
    "tags": []
   },
   "source": [
    "drop unused column"
   ]
  },
  {
   "cell_type": "code",
   "execution_count": 11,
   "id": "eaca99eb",
   "metadata": {
    "execution": {
     "iopub.execute_input": "2023-06-24T03:35:12.591986Z",
     "iopub.status.busy": "2023-06-24T03:35:12.591298Z",
     "iopub.status.idle": "2023-06-24T03:35:12.599174Z",
     "shell.execute_reply": "2023-06-24T03:35:12.598122Z"
    },
    "papermill": {
     "duration": 0.019068,
     "end_time": "2023-06-24T03:35:12.601707",
     "exception": false,
     "start_time": "2023-06-24T03:35:12.582639",
     "status": "completed"
    },
    "tags": []
   },
   "outputs": [],
   "source": [
    "df = df.drop([\"TotalCharges\"], axis=\"columns\")"
   ]
  },
  {
   "cell_type": "markdown",
   "id": "578d79c5",
   "metadata": {
    "papermill": {
     "duration": 0.006995,
     "end_time": "2023-06-24T03:35:12.616059",
     "exception": false,
     "start_time": "2023-06-24T03:35:12.609064",
     "status": "completed"
    },
    "tags": []
   },
   "source": [
    "[yes, no] and [male, female] column encoding"
   ]
  },
  {
   "cell_type": "code",
   "execution_count": 12,
   "id": "b5ec11e0",
   "metadata": {
    "execution": {
     "iopub.execute_input": "2023-06-24T03:35:12.635314Z",
     "iopub.status.busy": "2023-06-24T03:35:12.634208Z",
     "iopub.status.idle": "2023-06-24T03:35:12.660881Z",
     "shell.execute_reply": "2023-06-24T03:35:12.659526Z"
    },
    "papermill": {
     "duration": 0.040897,
     "end_time": "2023-06-24T03:35:12.665375",
     "exception": false,
     "start_time": "2023-06-24T03:35:12.624478",
     "status": "completed"
    },
    "tags": []
   },
   "outputs": [],
   "source": [
    "df.replace('No internet service', 'No', inplace=True)\n",
    "df.replace('No phone service', 'No', inplace=True)"
   ]
  },
  {
   "cell_type": "code",
   "execution_count": 13,
   "id": "6ebd3e78",
   "metadata": {
    "execution": {
     "iopub.execute_input": "2023-06-24T03:35:12.682639Z",
     "iopub.status.busy": "2023-06-24T03:35:12.682237Z",
     "iopub.status.idle": "2023-06-24T03:35:12.766448Z",
     "shell.execute_reply": "2023-06-24T03:35:12.765522Z"
    },
    "papermill": {
     "duration": 0.096006,
     "end_time": "2023-06-24T03:35:12.769399",
     "exception": false,
     "start_time": "2023-06-24T03:35:12.673393",
     "status": "completed"
    },
    "tags": []
   },
   "outputs": [],
   "source": [
    "yes_no_columns = ['Partner','Dependents','PhoneService','MultipleLines','OnlineSecurity','OnlineBackup',\n",
    "                  'DeviceProtection','TechSupport','StreamingTV','StreamingMovies','PaperlessBilling','Churn']\n",
    "\n",
    "for col in yes_no_columns:\n",
    "    df[col].replace({'Yes': 1,'No': 0},inplace=True)"
   ]
  },
  {
   "cell_type": "code",
   "execution_count": 14,
   "id": "8aa5f9d5",
   "metadata": {
    "execution": {
     "iopub.execute_input": "2023-06-24T03:35:12.791280Z",
     "iopub.status.busy": "2023-06-24T03:35:12.790386Z",
     "iopub.status.idle": "2023-06-24T03:35:12.805161Z",
     "shell.execute_reply": "2023-06-24T03:35:12.804051Z"
    },
    "papermill": {
     "duration": 0.028833,
     "end_time": "2023-06-24T03:35:12.808013",
     "exception": false,
     "start_time": "2023-06-24T03:35:12.779180",
     "status": "completed"
    },
    "tags": []
   },
   "outputs": [],
   "source": [
    "df[\"gender\"].replace({'Female':1, 'Male':0}, inplace=True)"
   ]
  },
  {
   "cell_type": "markdown",
   "id": "70402bb9",
   "metadata": {
    "papermill": {
     "duration": 0.006979,
     "end_time": "2023-06-24T03:35:12.822433",
     "exception": false,
     "start_time": "2023-06-24T03:35:12.815454",
     "status": "completed"
    },
    "tags": []
   },
   "source": [
    "encoding for category column"
   ]
  },
  {
   "cell_type": "code",
   "execution_count": 15,
   "id": "8125e55e",
   "metadata": {
    "execution": {
     "iopub.execute_input": "2023-06-24T03:35:12.838827Z",
     "iopub.status.busy": "2023-06-24T03:35:12.838427Z",
     "iopub.status.idle": "2023-06-24T03:35:12.876301Z",
     "shell.execute_reply": "2023-06-24T03:35:12.875189Z"
    },
    "papermill": {
     "duration": 0.049645,
     "end_time": "2023-06-24T03:35:12.879316",
     "exception": false,
     "start_time": "2023-06-24T03:35:12.829671",
     "status": "completed"
    },
    "tags": []
   },
   "outputs": [
    {
     "data": {
      "text/html": [
       "<div>\n",
       "<style scoped>\n",
       "    .dataframe tbody tr th:only-of-type {\n",
       "        vertical-align: middle;\n",
       "    }\n",
       "\n",
       "    .dataframe tbody tr th {\n",
       "        vertical-align: top;\n",
       "    }\n",
       "\n",
       "    .dataframe thead th {\n",
       "        text-align: right;\n",
       "    }\n",
       "</style>\n",
       "<table border=\"1\" class=\"dataframe\">\n",
       "  <thead>\n",
       "    <tr style=\"text-align: right;\">\n",
       "      <th></th>\n",
       "      <th>gender</th>\n",
       "      <th>SeniorCitizen</th>\n",
       "      <th>Partner</th>\n",
       "      <th>Dependents</th>\n",
       "      <th>tenure</th>\n",
       "      <th>PhoneService</th>\n",
       "      <th>MultipleLines</th>\n",
       "      <th>InternetService</th>\n",
       "      <th>OnlineSecurity</th>\n",
       "      <th>OnlineBackup</th>\n",
       "      <th>DeviceProtection</th>\n",
       "      <th>TechSupport</th>\n",
       "      <th>StreamingTV</th>\n",
       "      <th>StreamingMovies</th>\n",
       "      <th>Contract</th>\n",
       "      <th>PaperlessBilling</th>\n",
       "      <th>PaymentMethod</th>\n",
       "      <th>MonthlyCharges</th>\n",
       "      <th>Churn</th>\n",
       "    </tr>\n",
       "  </thead>\n",
       "  <tbody>\n",
       "    <tr>\n",
       "      <th>0</th>\n",
       "      <td>1</td>\n",
       "      <td>0</td>\n",
       "      <td>1</td>\n",
       "      <td>0</td>\n",
       "      <td>1</td>\n",
       "      <td>0</td>\n",
       "      <td>0</td>\n",
       "      <td>1</td>\n",
       "      <td>0</td>\n",
       "      <td>1</td>\n",
       "      <td>0</td>\n",
       "      <td>0</td>\n",
       "      <td>0</td>\n",
       "      <td>0</td>\n",
       "      <td>1</td>\n",
       "      <td>1</td>\n",
       "      <td>1</td>\n",
       "      <td>29.85</td>\n",
       "      <td>0</td>\n",
       "    </tr>\n",
       "    <tr>\n",
       "      <th>1</th>\n",
       "      <td>0</td>\n",
       "      <td>0</td>\n",
       "      <td>0</td>\n",
       "      <td>0</td>\n",
       "      <td>34</td>\n",
       "      <td>1</td>\n",
       "      <td>0</td>\n",
       "      <td>1</td>\n",
       "      <td>1</td>\n",
       "      <td>0</td>\n",
       "      <td>1</td>\n",
       "      <td>0</td>\n",
       "      <td>0</td>\n",
       "      <td>0</td>\n",
       "      <td>2</td>\n",
       "      <td>0</td>\n",
       "      <td>2</td>\n",
       "      <td>56.95</td>\n",
       "      <td>0</td>\n",
       "    </tr>\n",
       "    <tr>\n",
       "      <th>2</th>\n",
       "      <td>0</td>\n",
       "      <td>0</td>\n",
       "      <td>0</td>\n",
       "      <td>0</td>\n",
       "      <td>2</td>\n",
       "      <td>1</td>\n",
       "      <td>0</td>\n",
       "      <td>1</td>\n",
       "      <td>1</td>\n",
       "      <td>1</td>\n",
       "      <td>0</td>\n",
       "      <td>0</td>\n",
       "      <td>0</td>\n",
       "      <td>0</td>\n",
       "      <td>1</td>\n",
       "      <td>1</td>\n",
       "      <td>2</td>\n",
       "      <td>53.85</td>\n",
       "      <td>1</td>\n",
       "    </tr>\n",
       "    <tr>\n",
       "      <th>3</th>\n",
       "      <td>0</td>\n",
       "      <td>0</td>\n",
       "      <td>0</td>\n",
       "      <td>0</td>\n",
       "      <td>45</td>\n",
       "      <td>0</td>\n",
       "      <td>0</td>\n",
       "      <td>1</td>\n",
       "      <td>1</td>\n",
       "      <td>0</td>\n",
       "      <td>1</td>\n",
       "      <td>1</td>\n",
       "      <td>0</td>\n",
       "      <td>0</td>\n",
       "      <td>2</td>\n",
       "      <td>0</td>\n",
       "      <td>3</td>\n",
       "      <td>42.30</td>\n",
       "      <td>0</td>\n",
       "    </tr>\n",
       "    <tr>\n",
       "      <th>4</th>\n",
       "      <td>1</td>\n",
       "      <td>0</td>\n",
       "      <td>0</td>\n",
       "      <td>0</td>\n",
       "      <td>2</td>\n",
       "      <td>1</td>\n",
       "      <td>0</td>\n",
       "      <td>2</td>\n",
       "      <td>0</td>\n",
       "      <td>0</td>\n",
       "      <td>0</td>\n",
       "      <td>0</td>\n",
       "      <td>0</td>\n",
       "      <td>0</td>\n",
       "      <td>1</td>\n",
       "      <td>1</td>\n",
       "      <td>1</td>\n",
       "      <td>70.70</td>\n",
       "      <td>1</td>\n",
       "    </tr>\n",
       "  </tbody>\n",
       "</table>\n",
       "</div>"
      ],
      "text/plain": [
       "   gender  SeniorCitizen  Partner  Dependents  tenure  PhoneService  \\\n",
       "0       1              0        1           0       1             0   \n",
       "1       0              0        0           0      34             1   \n",
       "2       0              0        0           0       2             1   \n",
       "3       0              0        0           0      45             0   \n",
       "4       1              0        0           0       2             1   \n",
       "\n",
       "   MultipleLines  InternetService  OnlineSecurity  OnlineBackup  \\\n",
       "0              0                1               0             1   \n",
       "1              0                1               1             0   \n",
       "2              0                1               1             1   \n",
       "3              0                1               1             0   \n",
       "4              0                2               0             0   \n",
       "\n",
       "   DeviceProtection  TechSupport  StreamingTV  StreamingMovies  Contract  \\\n",
       "0                 0            0            0                0         1   \n",
       "1                 1            0            0                0         2   \n",
       "2                 0            0            0                0         1   \n",
       "3                 1            1            0                0         2   \n",
       "4                 0            0            0                0         1   \n",
       "\n",
       "   PaperlessBilling  PaymentMethod  MonthlyCharges  Churn  \n",
       "0                 1              1           29.85      0  \n",
       "1                 0              2           56.95      0  \n",
       "2                 1              2           53.85      1  \n",
       "3                 0              3           42.30      0  \n",
       "4                 1              1           70.70      1  "
      ]
     },
     "execution_count": 15,
     "metadata": {},
     "output_type": "execute_result"
    }
   ],
   "source": [
    "df[\"InternetService\"] = pd.factorize(df['InternetService'])[0] + 1\n",
    "df[\"Contract\"] = pd.factorize(df['Contract'])[0] + 1\n",
    "df[\"PaymentMethod\"] = pd.factorize(df['PaymentMethod'])[0] + 1\n",
    "\n",
    "df.head()"
   ]
  },
  {
   "cell_type": "markdown",
   "id": "655bbe65",
   "metadata": {
    "papermill": {
     "duration": 0.008565,
     "end_time": "2023-06-24T03:35:12.897929",
     "exception": false,
     "start_time": "2023-06-24T03:35:12.889364",
     "status": "completed"
    },
    "tags": []
   },
   "source": [
    "data splitting into training and testing"
   ]
  },
  {
   "cell_type": "code",
   "execution_count": 16,
   "id": "e8a4901f",
   "metadata": {
    "execution": {
     "iopub.execute_input": "2023-06-24T03:35:12.915061Z",
     "iopub.status.busy": "2023-06-24T03:35:12.914605Z",
     "iopub.status.idle": "2023-06-24T03:35:13.636867Z",
     "shell.execute_reply": "2023-06-24T03:35:13.635977Z"
    },
    "papermill": {
     "duration": 0.73369,
     "end_time": "2023-06-24T03:35:13.639360",
     "exception": false,
     "start_time": "2023-06-24T03:35:12.905670",
     "status": "completed"
    },
    "tags": []
   },
   "outputs": [
    {
     "data": {
      "text/plain": [
       "(7554, 18)"
      ]
     },
     "execution_count": 16,
     "metadata": {},
     "output_type": "execute_result"
    }
   ],
   "source": [
    "#train test split\n",
    "x = df.drop(\"Churn\", axis=\"columns\")\n",
    "y = df[\"Churn\"]\n",
    "\n",
    "smote = SMOTE(random_state=42)\n",
    "X_resampled, y_resampled = smote.fit_resample(x, y)\n",
    "\n",
    "xtr, xte, ytr, yte = train_test_split(X_resampled, y_resampled, test_size=.27, random_state=5)\n",
    "\n",
    "xtr.shape"
   ]
  },
  {
   "cell_type": "markdown",
   "id": "d6c205ca",
   "metadata": {
    "papermill": {
     "duration": 0.008644,
     "end_time": "2023-06-24T03:35:13.656871",
     "exception": false,
     "start_time": "2023-06-24T03:35:13.648227",
     "status": "completed"
    },
    "tags": []
   },
   "source": [
    "<h4><b> Creating sequential model "
   ]
  },
  {
   "cell_type": "code",
   "execution_count": 17,
   "id": "48a2de06",
   "metadata": {
    "execution": {
     "iopub.execute_input": "2023-06-24T03:35:13.674772Z",
     "iopub.status.busy": "2023-06-24T03:35:13.674138Z",
     "iopub.status.idle": "2023-06-24T03:35:56.113736Z",
     "shell.execute_reply": "2023-06-24T03:35:56.112619Z"
    },
    "papermill": {
     "duration": 42.505669,
     "end_time": "2023-06-24T03:35:56.170271",
     "exception": false,
     "start_time": "2023-06-24T03:35:13.664602",
     "status": "completed"
    },
    "tags": []
   },
   "outputs": [
    {
     "name": "stdout",
     "output_type": "stream",
     "text": [
      "Epoch 1/50\n",
      "237/237 [==============================] - 2s 2ms/step - loss: 0.5427 - accuracy: 0.7391\n",
      "Epoch 2/50\n",
      "237/237 [==============================] - 1s 2ms/step - loss: 0.4698 - accuracy: 0.7804\n",
      "Epoch 3/50\n",
      "237/237 [==============================] - 1s 2ms/step - loss: 0.4434 - accuracy: 0.7997\n",
      "Epoch 4/50\n",
      "237/237 [==============================] - 1s 2ms/step - loss: 0.4486 - accuracy: 0.7936\n",
      "Epoch 5/50\n",
      "237/237 [==============================] - 1s 2ms/step - loss: 0.4409 - accuracy: 0.7997\n",
      "Epoch 6/50\n",
      "237/237 [==============================] - 1s 2ms/step - loss: 0.4345 - accuracy: 0.8033\n",
      "Epoch 7/50\n",
      "237/237 [==============================] - 1s 2ms/step - loss: 0.4276 - accuracy: 0.8024\n",
      "Epoch 8/50\n",
      "237/237 [==============================] - 1s 3ms/step - loss: 0.4300 - accuracy: 0.8026\n",
      "Epoch 9/50\n",
      "237/237 [==============================] - 1s 2ms/step - loss: 0.4255 - accuracy: 0.8065\n",
      "Epoch 10/50\n",
      "237/237 [==============================] - 1s 3ms/step - loss: 0.4223 - accuracy: 0.8084\n",
      "Epoch 11/50\n",
      "237/237 [==============================] - 1s 2ms/step - loss: 0.4196 - accuracy: 0.8096\n",
      "Epoch 12/50\n",
      "237/237 [==============================] - 1s 2ms/step - loss: 0.4193 - accuracy: 0.8119\n",
      "Epoch 13/50\n",
      "237/237 [==============================] - 1s 2ms/step - loss: 0.4218 - accuracy: 0.8096\n",
      "Epoch 14/50\n",
      "237/237 [==============================] - 1s 3ms/step - loss: 0.4188 - accuracy: 0.8098\n",
      "Epoch 15/50\n",
      "237/237 [==============================] - 1s 3ms/step - loss: 0.4150 - accuracy: 0.8122\n",
      "Epoch 16/50\n",
      "237/237 [==============================] - 1s 3ms/step - loss: 0.4166 - accuracy: 0.8114\n",
      "Epoch 17/50\n",
      "237/237 [==============================] - 1s 2ms/step - loss: 0.4147 - accuracy: 0.8114\n",
      "Epoch 18/50\n",
      "237/237 [==============================] - 1s 2ms/step - loss: 0.4125 - accuracy: 0.8112\n",
      "Epoch 19/50\n",
      "237/237 [==============================] - 1s 2ms/step - loss: 0.4133 - accuracy: 0.8103\n",
      "Epoch 20/50\n",
      "237/237 [==============================] - 1s 2ms/step - loss: 0.4088 - accuracy: 0.8128\n",
      "Epoch 21/50\n",
      "237/237 [==============================] - 1s 2ms/step - loss: 0.4088 - accuracy: 0.8125\n",
      "Epoch 22/50\n",
      "237/237 [==============================] - 1s 2ms/step - loss: 0.4106 - accuracy: 0.8120\n",
      "Epoch 23/50\n",
      "237/237 [==============================] - 1s 2ms/step - loss: 0.4062 - accuracy: 0.8165\n",
      "Epoch 24/50\n",
      "237/237 [==============================] - 1s 2ms/step - loss: 0.4069 - accuracy: 0.8184\n",
      "Epoch 25/50\n",
      "237/237 [==============================] - 1s 2ms/step - loss: 0.4091 - accuracy: 0.8145\n",
      "Epoch 26/50\n",
      "237/237 [==============================] - 1s 2ms/step - loss: 0.4083 - accuracy: 0.8132\n",
      "Epoch 27/50\n",
      "237/237 [==============================] - 1s 2ms/step - loss: 0.4072 - accuracy: 0.8141\n",
      "Epoch 28/50\n",
      "237/237 [==============================] - 1s 2ms/step - loss: 0.4055 - accuracy: 0.8174\n",
      "Epoch 29/50\n",
      "237/237 [==============================] - 1s 2ms/step - loss: 0.4045 - accuracy: 0.8157\n",
      "Epoch 30/50\n",
      "237/237 [==============================] - 1s 2ms/step - loss: 0.4032 - accuracy: 0.8152\n",
      "Epoch 31/50\n",
      "237/237 [==============================] - 1s 2ms/step - loss: 0.4056 - accuracy: 0.8149\n",
      "Epoch 32/50\n",
      "237/237 [==============================] - 1s 2ms/step - loss: 0.4029 - accuracy: 0.8171\n",
      "Epoch 33/50\n",
      "237/237 [==============================] - 1s 2ms/step - loss: 0.4005 - accuracy: 0.8157\n",
      "Epoch 34/50\n",
      "237/237 [==============================] - 1s 2ms/step - loss: 0.4080 - accuracy: 0.8132\n",
      "Epoch 35/50\n",
      "237/237 [==============================] - 1s 2ms/step - loss: 0.3981 - accuracy: 0.8200\n",
      "Epoch 36/50\n",
      "237/237 [==============================] - 1s 2ms/step - loss: 0.4022 - accuracy: 0.8165\n",
      "Epoch 37/50\n",
      "237/237 [==============================] - 1s 2ms/step - loss: 0.4031 - accuracy: 0.8157\n",
      "Epoch 38/50\n",
      "237/237 [==============================] - 1s 2ms/step - loss: 0.3945 - accuracy: 0.8206\n",
      "Epoch 39/50\n",
      "237/237 [==============================] - 1s 2ms/step - loss: 0.3954 - accuracy: 0.8196\n",
      "Epoch 40/50\n",
      "237/237 [==============================] - 1s 2ms/step - loss: 0.4037 - accuracy: 0.8196\n",
      "Epoch 41/50\n",
      "237/237 [==============================] - 1s 2ms/step - loss: 0.3941 - accuracy: 0.8210\n",
      "Epoch 42/50\n",
      "237/237 [==============================] - 1s 3ms/step - loss: 0.3903 - accuracy: 0.8198\n",
      "Epoch 43/50\n",
      "237/237 [==============================] - 1s 3ms/step - loss: 0.3906 - accuracy: 0.8172\n",
      "Epoch 44/50\n",
      "237/237 [==============================] - 1s 2ms/step - loss: 0.3923 - accuracy: 0.8216\n",
      "Epoch 45/50\n",
      "237/237 [==============================] - 1s 2ms/step - loss: 0.3958 - accuracy: 0.8200\n",
      "Epoch 46/50\n",
      "237/237 [==============================] - 1s 2ms/step - loss: 0.3905 - accuracy: 0.8212\n",
      "Epoch 47/50\n",
      "237/237 [==============================] - 1s 2ms/step - loss: 0.3904 - accuracy: 0.8217\n",
      "Epoch 48/50\n",
      "237/237 [==============================] - 1s 2ms/step - loss: 0.3902 - accuracy: 0.8196\n",
      "Epoch 49/50\n",
      "237/237 [==============================] - 1s 2ms/step - loss: 0.3946 - accuracy: 0.8177\n",
      "Epoch 50/50\n",
      "237/237 [==============================] - 1s 2ms/step - loss: 0.3877 - accuracy: 0.8235\n"
     ]
    },
    {
     "data": {
      "text/plain": [
       "<keras.callbacks.History at 0x20026ed8bb0>"
      ]
     },
     "execution_count": 17,
     "metadata": {},
     "output_type": "execute_result"
    }
   ],
   "source": [
    "model = keras.Sequential([\n",
    "    keras.layers.Dense(128, input_shape=(18,), activation=\"relu\"),\n",
    "    keras.layers.Dense(64, activation=\"relu\"),\n",
    "    keras.layers.Dense(32, activation=\"relu\"),\n",
    "    keras.layers.Dense(1, activation=\"sigmoid\")\n",
    "])\n",
    "\n",
    "model.compile(optimizer=\"adam\",\n",
    "              loss=\"binary_crossentropy\",\n",
    "              metrics=[\"accuracy\"])\n",
    "\n",
    "model.fit(xtr, ytr, epochs=50)"
   ]
  },
  {
   "cell_type": "markdown",
   "id": "03d5ebf8",
   "metadata": {
    "papermill": {
     "duration": 0.053544,
     "end_time": "2023-06-24T03:35:56.277977",
     "exception": false,
     "start_time": "2023-06-24T03:35:56.224433",
     "status": "completed"
    },
    "tags": []
   },
   "source": [
    "<h4><b> Model evaluation"
   ]
  },
  {
   "cell_type": "code",
   "execution_count": 18,
   "id": "2b811c78",
   "metadata": {
    "execution": {
     "iopub.execute_input": "2023-06-24T03:35:56.390069Z",
     "iopub.status.busy": "2023-06-24T03:35:56.388931Z",
     "iopub.status.idle": "2023-06-24T03:35:57.449650Z",
     "shell.execute_reply": "2023-06-24T03:35:57.448556Z"
    },
    "papermill": {
     "duration": 1.119937,
     "end_time": "2023-06-24T03:35:57.452324",
     "exception": false,
     "start_time": "2023-06-24T03:35:56.332387",
     "status": "completed"
    },
    "tags": []
   },
   "outputs": [
    {
     "name": "stdout",
     "output_type": "stream",
     "text": [
      "88/88 [==============================] - 0s 2ms/step - loss: 0.3956 - accuracy: 0.8157\n",
      "88/88 [==============================] - 0s 2ms/step\n",
      "              precision    recall  f1-score   support\n",
      "\n",
      "           0       0.84      0.78      0.81      1388\n",
      "           1       0.80      0.85      0.82      1406\n",
      "\n",
      "    accuracy                           0.82      2794\n",
      "   macro avg       0.82      0.82      0.82      2794\n",
      "weighted avg       0.82      0.82      0.82      2794\n",
      "\n"
     ]
    },
    {
     "data": {
      "text/plain": [
       "<Axes: >"
      ]
     },
     "execution_count": 18,
     "metadata": {},
     "output_type": "execute_result"
    },
    {
     "data": {
      "image/png": "[encoded data removed]",
      "text/plain": [
       "<Figure size 1500x1000 with 2 Axes>"
      ]
     },
     "metadata": {},
     "output_type": "display_data"
    }
   ],
   "source": [
    "model.evaluate(xte, yte)\n",
    "\n",
    "yp = model.predict(xte)\n",
    "\n",
    "predict = []\n",
    "for ele in yp:\n",
    "    if ele > 0.5:\n",
    "        predict.append(1)\n",
    "    else:\n",
    "        predict.append(0)\n",
    "\n",
    "print(classification_report(yte, predict))\n",
    "\n",
    "plt.figure(figsize=(15, 10))\n",
    "sns.heatmap(confusion_matrix(yte, predict), annot=True, fmt=\".1f\")"
   ]
  },
  {
   "cell_type": "code",
   "execution_count": 1,
   "id": "008a2b7c",
   "metadata": {
    "execution": {
     "iopub.execute_input": "2023-06-24T03:35:57.566018Z",
     "iopub.status.busy": "2023-06-24T03:35:57.564988Z",
     "iopub.status.idle": "2023-06-24T03:35:57.605260Z",
     "shell.execute_reply": "2023-06-24T03:35:57.604270Z"
    },
    "papermill": {
     "duration": 0.099975,
     "end_time": "2023-06-24T03:35:57.607964",
     "exception": false,
     "start_time": "2023-06-24T03:35:57.507989",
     "status": "completed"
    },
    "tags": []
   },
   "outputs": [
    {
     "ename": "NameError",
     "evalue": "name 'model' is not defined",
     "output_type": "error",
     "traceback": [
      "\u001b[1;31m---------------------------------------------------------------------------\u001b[0m",
      "\u001b[1;31mNameError\u001b[0m                                 Traceback (most recent call last)",
      "\u001b[1;32m~\\AppData\\Local\\Temp\\ipykernel_23812\\1502167383.py\u001b[0m in \u001b[0;36m<module>\u001b[1;34m\u001b[0m\n\u001b[1;32m----> 1\u001b[1;33m \u001b[0mmodel\u001b[0m\u001b[1;33m.\u001b[0m\u001b[0msave\u001b[0m\u001b[1;33m(\u001b[0m\u001b[1;34m\"annclass.h5\"\u001b[0m\u001b[1;33m)\u001b[0m\u001b[1;33m\u001b[0m\u001b[1;33m\u001b[0m\u001b[0m\n\u001b[0m",
      "\u001b[1;31mNameError\u001b[0m: name 'model' is not defined"
     ]
    }
   ],
   "source": [
    "model.save(\"annclass.h5\")"
   ]
  },
  {
   "cell_type": "code",
   "execution_count": 2,
   "id": "5fbe0ff3",
   "metadata": {},
   "outputs": [
    {
     "name": "stdout",
     "output_type": "stream",
     "text": [
      "C:\\Users\\AUSU\\Downloads\n"
     ]
    }
   ],
   "source": [
    "import os\n",
    "print(os.getcwd())\n",
    "\n"
   ]
  },
  {
   "cell_type": "code",
   "execution_count": null,
   "id": "6466bfab",
   "metadata": {},
   "outputs": [],
   "source": []
  }
 ],
 "metadata": {
  "kernelspec": {
   "display_name": "Python 3 (ipykernel)",
   "language": "python",
   "name": "python3"
  },
  "language_info": {
   "codemirror_mode": {
    "name": "ipython",
    "version": 3
   },
   "file_extension": ".py",
   "mimetype": "text/x-python",
   "name": "python",
   "nbconvert_exporter": "python",
   "pygments_lexer": "ipython3",
   "version": "3.9.13"
  },
  "papermill": {
   "default_parameters": {},
   "duration": 71.717839,
   "end_time": "2023-06-24T03:36:00.412081",
   "environment_variables": {},
   "exception": null,
   "input_path": "__notebook__.ipynb",
   "output_path": "__notebook__.ipynb",
   "parameters": {},
   "start_time": "2023-06-24T03:34:48.694242",
   "version": "2.4.0"
  }
 },
 "nbformat": 4,
 "nbformat_minor": 5
}
